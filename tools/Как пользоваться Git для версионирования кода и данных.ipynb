{
  "cells": [
    {
      "cell_type": "markdown",
      "metadata": {
        "id": "ctPYbSLRPfCE"
      },
      "source": [
        "# Как пользоваться Git для версионирования кода и данных\n",
        "Подробнее остановимся на Git и рассмотрим основные команды и сценарии его использования. Напомним, что Git используется для контроля изменений в файлах проекта, а также помогает синхронизироваться с другими разработчиками."
      ]
    },
    {
      "cell_type": "markdown",
      "metadata": {
        "id": "wPSnuq20PfCH"
      },
      "source": [
        "**Инициализация репозитория** или **клонирование существующего репозитория**"
      ]
    },
    {
      "cell_type": "code",
      "execution_count": null,
      "metadata": {
        "id": "untOLiwhPfCI"
      },
      "outputs": [],
      "source": [
        "!git init"
      ]
    },
    {
      "cell_type": "code",
      "execution_count": null,
      "metadata": {
        "id": "4dxh0dfjPfCJ"
      },
      "outputs": [],
      "source": [
        "!git clone"
      ]
    },
    {
      "cell_type": "markdown",
      "metadata": {
        "id": "Y-W310SePfCJ"
      },
      "source": [
        "**Просмотр истории коммитов**"
      ]
    },
    {
      "cell_type": "code",
      "execution_count": null,
      "metadata": {
        "id": "o6HxCiBsPfCJ"
      },
      "outputs": [],
      "source": [
        "!git log"
      ]
    },
    {
      "cell_type": "markdown",
      "metadata": {
        "id": "OJSGiBzNPfCK"
      },
      "source": [
        "**Добавление файлов к индексации**"
      ]
    },
    {
      "cell_type": "code",
      "execution_count": null,
      "metadata": {
        "id": "wgHoqJ0KPfCK"
      },
      "outputs": [],
      "source": [
        "!git add titanic.csv"
      ]
    },
    {
      "cell_type": "code",
      "execution_count": null,
      "metadata": {
        "id": "7YefAQeCPfCK"
      },
      "outputs": [],
      "source": [
        "!git status"
      ]
    },
    {
      "cell_type": "markdown",
      "metadata": {
        "id": "qUjfXOi0PfCL"
      },
      "source": [
        "**Операции с ветками**"
      ]
    },
    {
      "cell_type": "code",
      "execution_count": null,
      "metadata": {
        "id": "x1Zas1tkPfCL"
      },
      "outputs": [],
      "source": [
        "!git branch <branch-name>"
      ]
    },
    {
      "cell_type": "markdown",
      "metadata": {
        "id": "7BDPmsB4PfCL"
      },
      "source": [
        "**Создание коммита**"
      ]
    },
    {
      "cell_type": "code",
      "execution_count": null,
      "metadata": {
        "id": "lcqwWHobPfCL"
      },
      "outputs": [],
      "source": [
        "!git commit -m \"Добавление начального датасета\""
      ]
    },
    {
      "cell_type": "markdown",
      "metadata": {
        "id": "JGa48zPPPfCL"
      },
      "source": [
        "**Отправка изменений в удалённый репозиторий**"
      ]
    },
    {
      "cell_type": "code",
      "execution_count": null,
      "metadata": {
        "id": "MYOEN6J4PfCL"
      },
      "outputs": [],
      "source": [
        "!git push"
      ]
    }
  ],
  "metadata": {
    "kernelspec": {
      "display_name": "Python 3",
      "language": "python",
      "name": "python3"
    },
    "language_info": {
      "codemirror_mode": {
        "name": "ipython",
        "version": 3
      },
      "file_extension": ".py",
      "mimetype": "text/x-python",
      "name": "python",
      "nbconvert_exporter": "python",
      "pygments_lexer": "ipython3",
      "version": "3.12.4"
    },
    "colab": {
      "provenance": []
    }
  },
  "nbformat": 4,
  "nbformat_minor": 0
}