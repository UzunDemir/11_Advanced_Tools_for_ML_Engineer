{
  "cells": [
    {
      "cell_type": "markdown",
      "metadata": {
        "id": "XtNgcGQsQg7O"
      },
      "source": [
        "# Установка DVC\n",
        "Чтобы начать использовать DVC, его нужно установить. Для этого выполните следующую команду:"
      ]
    },
    {
      "cell_type": "code",
      "execution_count": null,
      "metadata": {
        "id": "62ETKlQiQg7S"
      },
      "outputs": [],
      "source": [
        "!pip install dvc"
      ]
    },
    {
      "cell_type": "markdown",
      "metadata": {
        "id": "UeM2KPd8Qg7T"
      },
      "source": [
        "**Инициализация DVC в проекте**"
      ]
    },
    {
      "cell_type": "code",
      "execution_count": null,
      "metadata": {
        "id": "Bxwejw4UQg7U"
      },
      "outputs": [],
      "source": [
        "!dvc init"
      ]
    },
    {
      "cell_type": "markdown",
      "metadata": {
        "id": "fj4883-wQg7U"
      },
      "source": [
        "**Добавление и отслеживание датасетов**"
      ]
    },
    {
      "cell_type": "code",
      "execution_count": null,
      "metadata": {
        "id": "8sUNgWb7Qg7U"
      },
      "outputs": [],
      "source": [
        "!dvc add titanic.csv"
      ]
    },
    {
      "cell_type": "markdown",
      "metadata": {
        "id": "YDncvVD-Qg7V"
      },
      "source": [
        "**Коммит изменений в Git**"
      ]
    },
    {
      "cell_type": "code",
      "execution_count": null,
      "metadata": {
        "id": "LGjJBSVuQg7V"
      },
      "outputs": [],
      "source": [
        "!git add .gitignore titanic.csv.dvc"
      ]
    },
    {
      "cell_type": "code",
      "execution_count": null,
      "metadata": {
        "id": "0ChLxM9iQg7W"
      },
      "outputs": [],
      "source": [
        "!git commit -m \"Добавлен датасет titanic.csv под управлением DVC\""
      ]
    },
    {
      "cell_type": "markdown",
      "metadata": {
        "id": "P3b59FYGQg7W"
      },
      "source": [
        "**Сохранение данных в удалённом хранилище**"
      ]
    },
    {
      "cell_type": "code",
      "execution_count": null,
      "metadata": {
        "id": "HyxVLzeYQg7W"
      },
      "outputs": [],
      "source": [
        "!dvc remote add -d myremote <storage_URL>"
      ]
    },
    {
      "cell_type": "code",
      "execution_count": null,
      "metadata": {
        "id": "gLcxyE5cQg7W"
      },
      "outputs": [],
      "source": [
        "!dvc push"
      ]
    },
    {
      "cell_type": "markdown",
      "metadata": {
        "id": "UgFz3Ko6Qg7X"
      },
      "source": [
        "**Восстановление или получение новых данных**"
      ]
    },
    {
      "cell_type": "code",
      "execution_count": null,
      "metadata": {
        "id": "_a04GiX7Qg7X"
      },
      "outputs": [],
      "source": [
        "!dvc pull"
      ]
    },
    {
      "cell_type": "markdown",
      "metadata": {
        "id": "xY9ujSegQg7X"
      },
      "source": [
        "# Установка Git LFS"
      ]
    },
    {
      "cell_type": "code",
      "execution_count": null,
      "metadata": {
        "id": "kdhwmunqQg7X",
        "outputId": "df293275-1ffe-4449-80d5-4eeedaf86d79"
      },
      "outputs": [
        {
          "name": "stdout",
          "output_type": "stream",
          "text": [
            "Updated Git hooks.\n",
            "Git LFS initialized.\n"
          ]
        }
      ],
      "source": [
        "!git lfs install"
      ]
    },
    {
      "cell_type": "code",
      "execution_count": null,
      "metadata": {
        "id": "2PJLyBX-Qg7Y",
        "outputId": "6f0a825f-cc4b-476a-f2a6-127f69c77ed6"
      },
      "outputs": [
        {
          "name": "stdout",
          "output_type": "stream",
          "text": [
            "\u001b[33mcommit bb99bb51749e5662c21074b4e5e2e29930c1a1e5\u001b[m\u001b[33m (\u001b[m\u001b[1;36mHEAD -> \u001b[m\u001b[1;32mmain\u001b[m\u001b[33m)\u001b[m\n",
            "Author: Anton Repushko <repushko.a@gmail.com>\n",
            "Date:   Fri Jul 12 09:47:46 2024 +0200\n",
            "\n",
            "    Добавлен датасет titanic.csv под управлением Git LFS\n"
          ]
        }
      ],
      "source": [
        "!git log"
      ]
    },
    {
      "cell_type": "markdown",
      "metadata": {
        "id": "Sj0fLlmlQg7Y"
      },
      "source": [
        "**Отслеживание файлов**"
      ]
    },
    {
      "cell_type": "code",
      "execution_count": null,
      "metadata": {
        "id": "V7iGDsosQg7Y",
        "outputId": "10a6e71c-1443-4f30-fdfb-63ca463d8d29"
      },
      "outputs": [
        {
          "name": "stdout",
          "output_type": "stream",
          "text": [
            "Tracking \"titanic.csv\"\n"
          ]
        }
      ],
      "source": [
        "!git lfs track titanic.csv"
      ]
    },
    {
      "cell_type": "markdown",
      "metadata": {
        "id": "_BrhJZOgQg7Y"
      },
      "source": [
        "**Добавление и коммит файлов**"
      ]
    },
    {
      "cell_type": "code",
      "execution_count": null,
      "metadata": {
        "id": "Wo7_utpuQg7Y"
      },
      "outputs": [],
      "source": [
        "!git add .gitattributes titanic.csv"
      ]
    },
    {
      "cell_type": "code",
      "execution_count": null,
      "metadata": {
        "id": "U8lmhl0dQg7Y",
        "outputId": "c6d9a650-2f30-437f-f32d-eff242c6f01f"
      },
      "outputs": [
        {
          "name": "stdout",
          "output_type": "stream",
          "text": [
            "[main (root-commit) bb99bb5] Добавлен датасет titanic.csv под управлением Git LFS\n",
            " 2 files changed, 4 insertions(+)\n",
            " create mode 100644 .gitattributes\n",
            " create mode 100644 titanic.csv\n"
          ]
        }
      ],
      "source": [
        "!git commit -m \"Добавлен датасет titanic.csv под управлением Git LFS\""
      ]
    },
    {
      "cell_type": "markdown",
      "metadata": {
        "id": "6LD6EDkqQg7Z"
      },
      "source": [
        "**Загрузка данных в удалённый репозиторий**"
      ]
    },
    {
      "cell_type": "code",
      "execution_count": null,
      "metadata": {
        "id": "KgrAQ6WLQg7Z"
      },
      "outputs": [],
      "source": [
        "!git push"
      ]
    }
  ],
  "metadata": {
    "kernelspec": {
      "display_name": ".venv",
      "language": "python",
      "name": "python3"
    },
    "language_info": {
      "codemirror_mode": {
        "name": "ipython",
        "version": 3
      },
      "file_extension": ".py",
      "mimetype": "text/x-python",
      "name": "python",
      "nbconvert_exporter": "python",
      "pygments_lexer": "ipython3",
      "version": "3.12.4"
    },
    "colab": {
      "provenance": []
    }
  },
  "nbformat": 4,
  "nbformat_minor": 0
}